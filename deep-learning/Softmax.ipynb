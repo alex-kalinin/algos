{
 "cells": [
  {
   "cell_type": "markdown",
   "metadata": {},
   "source": [
    "## Softmax Intuition"
   ]
  },
  {
   "cell_type": "code",
   "execution_count": 2,
   "metadata": {
    "collapsed": true
   },
   "outputs": [],
   "source": [
    "import numpy as np\n",
    "\n",
    "def softmax(x):\n",
    "    return np.exp(x) / np.sum(np.exp(x))"
   ]
  },
  {
   "cell_type": "markdown",
   "metadata": {},
   "source": [
    "If there's a positive outlier, then softmax will give it most of the probability:"
   ]
  },
  {
   "cell_type": "code",
   "execution_count": 26,
   "metadata": {
    "collapsed": false
   },
   "outputs": [
    {
     "data": {
      "text/plain": [
       "array([  9.99803692e-01,   1.23385578e-04,   4.53910174e-05,\n",
       "         2.75310437e-05])"
      ]
     },
     "execution_count": 26,
     "metadata": {},
     "output_type": "execute_result"
    }
   ],
   "source": [
    "softmax(np.array([11, 2, 1, 0.5]))"
   ]
  },
  {
   "cell_type": "markdown",
   "metadata": {},
   "source": [
    "If there's a negative outlier, it will be ignored, and the probability split among the remaining group:"
   ]
  },
  {
   "cell_type": "code",
   "execution_count": 23,
   "metadata": {
    "collapsed": false
   },
   "outputs": [
    {
     "data": {
      "text/plain": [
       "array([  2.11941282e-01,   5.76116135e-01,   2.11941282e-01,\n",
       "         1.30221224e-06])"
      ]
     },
     "execution_count": 23,
     "metadata": {},
     "output_type": "execute_result"
    }
   ],
   "source": [
    "softmax(np.array([2, 3, 2, -10]))"
   ]
  },
  {
   "cell_type": "markdown",
   "metadata": {},
   "source": [
    "If values are close to each other, softmax will divived probability among them:"
   ]
  },
  {
   "cell_type": "code",
   "execution_count": 24,
   "metadata": {
    "collapsed": false
   },
   "outputs": [
    {
     "data": {
      "text/plain": [
       "array([ 0.46175322,  0.16986952,  0.22929986,  0.1390774 ])"
      ]
     },
     "execution_count": 24,
     "metadata": {},
     "output_type": "execute_result"
    }
   ],
   "source": [
    "softmax(np.array([3, 2, 2.3, 1.8]))"
   ]
  },
  {
   "cell_type": "code",
   "execution_count": 1,
   "metadata": {
    "collapsed": false
   },
   "outputs": [
    {
     "ename": "NameError",
     "evalue": "name 'softmax' is not defined",
     "output_type": "error",
     "traceback": [
      "\u001b[0;31m---------------------------------------------------------------------------\u001b[0m",
      "\u001b[0;31mNameError\u001b[0m                                 Traceback (most recent call last)",
      "\u001b[0;32m<ipython-input-1-e2c34594be77>\u001b[0m in \u001b[0;36m<module>\u001b[0;34m()\u001b[0m\n\u001b[0;32m----> 1\u001b[0;31m \u001b[0msoftmax\u001b[0m\u001b[0;34m(\u001b[0m\u001b[0mnp\u001b[0m\u001b[0;34m.\u001b[0m\u001b[0marray\u001b[0m\u001b[0;34m(\u001b[0m\u001b[0;34m[\u001b[0m\u001b[0;36m11\u001b[0m\u001b[0;34m,\u001b[0m \u001b[0;36m3\u001b[0m\u001b[0;34m,\u001b[0m \u001b[0;36m1\u001b[0m\u001b[0;34m,\u001b[0m \u001b[0;34m-\u001b[0m\u001b[0;36m10\u001b[0m\u001b[0;34m]\u001b[0m\u001b[0;34m)\u001b[0m\u001b[0;34m)\u001b[0m\u001b[0;34m\u001b[0m\u001b[0m\n\u001b[0m",
      "\u001b[0;31mNameError\u001b[0m: name 'softmax' is not defined"
     ]
    }
   ],
   "source": [
    "softmax(np.array([11, 3, 1, -10]))"
   ]
  },
  {
   "cell_type": "code",
   "execution_count": 13,
   "metadata": {
    "collapsed": false
   },
   "outputs": [
    {
     "data": {
      "text/plain": [
       "array([[ 0.02447547,  0.00602383,  0.0580481 ,  0.08923302,  0.09499426]])"
      ]
     },
     "execution_count": 13,
     "metadata": {},
     "output_type": "execute_result"
    }
   ],
   "source": [
    "0.1 * np.random.rand(1, 5)"
   ]
  },
  {
   "cell_type": "code",
   "execution_count": 52,
   "metadata": {
    "collapsed": false
   },
   "outputs": [
    {
     "name": "stdout",
     "output_type": "stream",
     "text": [
      "0.078\n",
      "h0 = 0.0778422000109\n",
      "in1 = 0.0798682128003\n",
      "h1 = 0.0796988203869\n",
      "h1 * w_hh = 0.00191277168929\n",
      "w_xh * x2 = 0.156\n",
      "h1 * w_hh + w_xh * x2 = 0.157912771689\n",
      "h2 = 0.156613139136\n",
      "h2 * w_hh = 0.00375871533927\n",
      "w_xh * x3 = 0.23399999999999999\n",
      "h2 * w_hh + w_xh * x3 = 0.237758715339\n",
      "h3 = 0.233377648184\n",
      "y = 0.0119022600574\n",
      "y - x4 = -4.98809773994\n",
      "(y - x4) ** 2 = 24.8811190632\n"
     ]
    }
   ],
   "source": [
    "w_xh = 0.078\n",
    "w_hh = 0.024\n",
    "in0 = w_xh * 1.0\n",
    "print(in0)\n",
    "h0 = np.tanh(in0)\n",
    "print('h0 =', h0)\n",
    "\n",
    "in1 = w_xh * 1.0 + h0 * w_hh\n",
    "print('in1 =', in1)\n",
    "h1 = np.tanh(in1)\n",
    "print('h1 =', h1)\n",
    "\n",
    "print('h1 * w_hh =', h1 * w_hh)\n",
    "\n",
    "x2 = 2.0\n",
    "print ('w_xh * x2 =', w_xh * x2)\n",
    "\n",
    "print ('h1 * w_hh + w_xh * x2 =', h1 * w_hh + w_xh * x2)\n",
    "\n",
    "h2 = np.tanh(h1 * w_hh + w_xh * x2)\n",
    "print('h2 =', h2)\n",
    "\n",
    "print('h2 * w_hh =', h2 * w_hh)\n",
    "\n",
    "x3 = 3.0\n",
    "print('w_xh * x3 =', w_xh * x3)\n",
    "\n",
    "print('h2 * w_hh + w_xh * x3 =', h2 * w_hh + w_xh * x3)\n",
    "\n",
    "h3 = np.tanh(h2 * w_hh + w_xh * x3)\n",
    "print('h3 =', h3)\n",
    "\n",
    "w_hy = 0.051\n",
    "y = h3 * w_hy\n",
    "print('y =', y)\n",
    "\n",
    "x4 = 5\n",
    "print('y - x4 =', y - x4)\n",
    "\n",
    "print('(y - x4) ** 2 =', (y - x4) ** 2)"
   ]
  },
  {
   "cell_type": "code",
   "execution_count": 25,
   "metadata": {
    "collapsed": false
   },
   "outputs": [
    {
     "name": "stdout",
     "output_type": "stream",
     "text": [
      "0.00621680151531\n"
     ]
    }
   ],
   "source": [
    "\n",
    "print(h1 * w_xh)"
   ]
  },
  {
   "cell_type": "code",
   "execution_count": null,
   "metadata": {
    "collapsed": true
   },
   "outputs": [],
   "source": []
  }
 ],
 "metadata": {
  "kernelspec": {
   "display_name": "Python 3",
   "language": "python",
   "name": "python3"
  },
  "language_info": {
   "codemirror_mode": {
    "name": "ipython",
    "version": 3
   },
   "file_extension": ".py",
   "mimetype": "text/x-python",
   "name": "python",
   "nbconvert_exporter": "python",
   "pygments_lexer": "ipython3",
   "version": "3.5.1"
  }
 },
 "nbformat": 4,
 "nbformat_minor": 1
}

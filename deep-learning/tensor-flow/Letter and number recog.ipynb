{
 "cells": [
  {
   "cell_type": "code",
   "execution_count": 1,
   "metadata": {
    "collapsed": false
   },
   "outputs": [],
   "source": [
    "%matplotlib inline\n",
    "import matplotlib.pyplot as plt\n",
    "import gzip, binascii, struct, numpy\n",
    "import numpy as np"
   ]
  },
  {
   "cell_type": "markdown",
   "metadata": {},
   "source": [
    "We will train the classifier to recognize both MNIST numbers and NON-MNIST letters. Our training plan is approximately as follows:\n",
    "1) Load mnist data\n",
    "2) Load non-mnist data\n",
    "3) Merge both data sources into a single array\n",
    "4) Merge their label into a single array\n",
    "5) Split each training data set training and test.\n",
    "5.1) Merge training data sets for both mnist and non-mnist\n",
    "5.2) Merge test datasets\n",
    "5.3) Add \"empty\" training set\n",
    "5.4) Add \"empty\" test set\n",
    "6) Build Tensorf-flow model\n",
    "7) Train it."
   ]
  },
  {
   "cell_type": "code",
   "execution_count": 2,
   "metadata": {
    "collapsed": false
   },
   "outputs": [],
   "source": [
    "directory = 'mnist'\n",
    "train_data_filename = directory + '/train-images-idx3-ubyte.gz'\n",
    "train_labels_filename = directory + '/train-labels-idx1-ubyte.gz'\n",
    "test_data_filename = directory + '/t10k-images-idx3-ubyte.gz'\n",
    "test_labels_filename = directory + '/t10k-labels-idx1-ubyte.gz'"
   ]
  },
  {
   "cell_type": "markdown",
   "metadata": {},
   "source": [
    "## Load MNIST dataset\n",
    " Extract the images into a 4D tensor [image index, y, x, channels]. For greyscale MNIST, the number of channels is always 1. Values are rescaled from [0, 255] down to [-0.5, 0.5]."
   ]
  },
  {
   "cell_type": "markdown",
   "metadata": {},
   "source": [
    "First, images:"
   ]
  },
  {
   "cell_type": "code",
   "execution_count": 3,
   "metadata": {
    "collapsed": false
   },
   "outputs": [
    {
     "name": "stdout",
     "output_type": "stream",
     "text": [
      "Extracting mnist/train-images-idx3-ubyte.gz\n",
      "Extracting mnist/t10k-images-idx3-ubyte.gz\n"
     ]
    },
    {
     "data": {
      "text/plain": [
       "(60000, 28, 28, 1)"
      ]
     },
     "execution_count": 3,
     "metadata": {},
     "output_type": "execute_result"
    }
   ],
   "source": [
    "IMAGE_SIZE = 28\n",
    "PIXEL_DEPTH = 255\n",
    "\n",
    "def extract_data(filename, num_images):\n",
    "  print ('Extracting', filename)\n",
    "  with gzip.open(filename) as bytestream:\n",
    "    # Skip the magic number and dimensions; we know these values.\n",
    "    bytestream.read(16)\n",
    "    \n",
    "    buf = bytestream.read(IMAGE_SIZE * IMAGE_SIZE * num_images)\n",
    "    data = numpy.frombuffer(buf, dtype=numpy.uint8).astype(numpy.float32)\n",
    "    data = (data - (PIXEL_DEPTH / 2.0)) / PIXEL_DEPTH\n",
    "    data = data.reshape(num_images, IMAGE_SIZE, IMAGE_SIZE, 1)\n",
    "    return data\n",
    "\n",
    "train_data_mnist = extract_data(train_data_filename, 60000)\n",
    "test_data_mnist = extract_data(test_data_filename, 10000)\n",
    "train_data_mnist.shape\n",
    "#plt.imshow(train_data[0].reshape(28, 28))"
   ]
  },
  {
   "cell_type": "markdown",
   "metadata": {},
   "source": [
    "Now, load MNIST labels"
   ]
  },
  {
   "cell_type": "code",
   "execution_count": 4,
   "metadata": {
    "collapsed": false
   },
   "outputs": [
    {
     "name": "stdout",
     "output_type": "stream",
     "text": [
      "Extracting mnist/train-labels-idx1-ubyte.gz\n",
      "Extracting mnist/t10k-labels-idx1-ubyte.gz\n",
      "Done\n"
     ]
    }
   ],
   "source": [
    "NUM_LABELS = 20\n",
    "\n",
    "def extract_labels(filename, num_images):\n",
    "  \"\"\"Extract the labels into a 1-hot matrix [image index, label index].\"\"\"\n",
    "  print ('Extracting', filename)\n",
    "  with gzip.open(filename) as bytestream:\n",
    "    # Skip the magic number and count; we know these values.\n",
    "    bytestream.read(8)\n",
    "    \n",
    "    buf = bytestream.read(1 * num_images)\n",
    "    labels = numpy.frombuffer(buf, dtype=numpy.uint8)\n",
    "  # Convert to dense 1-hot representation.\n",
    "  return (numpy.arange(NUM_LABELS) == labels[:, None]).astype(numpy.float32)\n",
    "\n",
    "train_labels_mnist = extract_labels(train_labels_filename, 60000)\n",
    "test_labels_mnist = extract_labels(test_labels_filename, 10000)\n",
    "\n",
    "print('Done')"
   ]
  },
  {
   "cell_type": "markdown",
   "metadata": {},
   "source": [
    "### Split the training data into 2 sets: training , validation"
   ]
  },
  {
   "cell_type": "code",
   "execution_count": 5,
   "metadata": {
    "collapsed": false
   },
   "outputs": [
    {
     "name": "stdout",
     "output_type": "stream",
     "text": [
      "Data: Train Valid Test (55000, 28, 28, 1) (5000, 28, 28, 1) (10000, 28, 28, 1)\n",
      "Labels: Train Valid Test (55000, 20) (5000, 20) (10000, 20)\n"
     ]
    }
   ],
   "source": [
    "VALIDATION_SIZE = 5000\n",
    "\n",
    "valid_data_mnist = train_data_mnist[:VALIDATION_SIZE, :, :, :]\n",
    "valid_labels_mnist = train_labels_mnist[:VALIDATION_SIZE]\n",
    "train_data_mnist = train_data_mnist[VALIDATION_SIZE:, :, :, :]\n",
    "train_labels_mnist = train_labels_mnist[VALIDATION_SIZE:]\n",
    "\n",
    "print('Data:', 'Train', 'Valid', 'Test', train_data_mnist.shape, valid_data_mnist.shape, test_data_mnist.shape)\n",
    "print('Labels:', 'Train', 'Valid', 'Test', train_labels_mnist.shape, valid_labels_mnist.shape, test_labels_mnist.shape)"
   ]
  },
  {
   "cell_type": "markdown",
   "metadata": {},
   "source": [
    "## Load NON-MNIST Dataset"
   ]
  },
  {
   "cell_type": "code",
   "execution_count": 6,
   "metadata": {
    "collapsed": true
   },
   "outputs": [],
   "source": [
    "import pickle"
   ]
  },
  {
   "cell_type": "code",
   "execution_count": 7,
   "metadata": {
    "collapsed": false
   },
   "outputs": [
    {
     "name": "stdout",
     "output_type": "stream",
     "text": [
      "Done\n"
     ]
    }
   ],
   "source": [
    "pickle_file = directory + '/notMNIST.pickle'\n",
    "f = open(pickle_file, 'rb')\n",
    "data = pickle.load(f)\n",
    "f.close()\n",
    "\n",
    "nm_train_data = data['train_dataset']\n",
    "nm_train_labels = data['train_labels']\n",
    "\n",
    "nm_valid_data = data['valid_dataset']\n",
    "nm_valid_labels = data['valid_labels']\n",
    "\n",
    "nm_test_data = data['test_dataset']\n",
    "nm_test_labels = data['test_labels']\n",
    "\n",
    "print('Done')"
   ]
  },
  {
   "cell_type": "code",
   "execution_count": 29,
   "metadata": {
    "collapsed": false
   },
   "outputs": [
    {
     "data": {
      "text/plain": [
       "(12000, 28, 28, 1)"
      ]
     },
     "execution_count": 29,
     "metadata": {},
     "output_type": "execute_result"
    }
   ],
   "source": [
    "nm_test_data.shape"
   ]
  },
  {
   "cell_type": "markdown",
   "metadata": {},
   "source": [
    "Reshape data array to match that of MNIST. Currently it's [N, h, w]. We want [N, h, w, channels], where in this case the channels == 1"
   ]
  },
  {
   "cell_type": "code",
   "execution_count": 8,
   "metadata": {
    "collapsed": false
   },
   "outputs": [],
   "source": [
    "nm_train_data = nm_train_data.reshape(-1, 28, 28, 1)\n",
    "nm_valid_data = nm_valid_data.reshape(-1, 28, 28, 1)\n",
    "nm_test_data = nm_test_data.reshape(-1, 28, 28, 1)"
   ]
  },
  {
   "cell_type": "markdown",
   "metadata": {},
   "source": [
    "Shift labels by 10. The first 10 indexes are for MNIST numbers"
   ]
  },
  {
   "cell_type": "code",
   "execution_count": 9,
   "metadata": {
    "collapsed": false
   },
   "outputs": [],
   "source": [
    "shift_by = 10\n",
    "nm_train_labels_real_adj = nm_train_labels + shift_by\n",
    "nm_valid_labels_adj = nm_valid_labels + shift_by\n",
    "nm_test_labels_adj = nm_test_labels + shift_by"
   ]
  },
  {
   "cell_type": "markdown",
   "metadata": {},
   "source": [
    "Convert labels into one-hot encoding similar to MNIST"
   ]
  },
  {
   "cell_type": "code",
   "execution_count": 10,
   "metadata": {
    "collapsed": false
   },
   "outputs": [],
   "source": [
    "def to_one_hot(real_labels):\n",
    "    return (numpy.arange(NUM_LABELS) == real_labels[:, None]).astype(np.float32)\n",
    "nm_train_labels = to_one_hot(nm_train_labels_real_adj)\n",
    "nm_valid_labels = to_one_hot(nm_valid_labels_adj)\n",
    "nm_test_labels = to_one_hot(nm_test_labels_adj)"
   ]
  },
  {
   "cell_type": "markdown",
   "metadata": {},
   "source": [
    "Merge data arrays:"
   ]
  },
  {
   "cell_type": "code",
   "execution_count": 11,
   "metadata": {
    "collapsed": false
   },
   "outputs": [
    {
     "name": "stdout",
     "output_type": "stream",
     "text": [
      "(255000, 28, 28, 1) (17000, 28, 28, 1) (22000, 28, 28, 1)\n"
     ]
    }
   ],
   "source": [
    "train_data_all = np.concatenate((train_data_mnist, nm_train_data))\n",
    "valid_data_all = np.concatenate((valid_data_mnist, nm_valid_data))\n",
    "test_data_all = np.concatenate((test_data_mnist, nm_test_data))\n",
    "print(train_data_all.shape, valid_data_all.shape, test_data_all.shape)"
   ]
  },
  {
   "cell_type": "markdown",
   "metadata": {},
   "source": [
    "Merge label arrays:"
   ]
  },
  {
   "cell_type": "code",
   "execution_count": 12,
   "metadata": {
    "collapsed": false
   },
   "outputs": [
    {
     "name": "stdout",
     "output_type": "stream",
     "text": [
      "(255000, 20) (17000, 20) (22000, 20)\n"
     ]
    }
   ],
   "source": [
    "train_labels_all = np.concatenate((train_labels_mnist, nm_train_labels))\n",
    "valid_labels_all = np.concatenate((valid_labels_mnist, nm_valid_labels))\n",
    "test_labels_all = np.concatenate((test_labels_mnist, nm_test_labels))\n",
    "print(train_labels_all.shape, valid_labels_all.shape, test_labels_all.shape)"
   ]
  },
  {
   "cell_type": "code",
   "execution_count": 13,
   "metadata": {
    "collapsed": false
   },
   "outputs": [
    {
     "data": {
      "text/plain": [
       "255000"
      ]
     },
     "execution_count": 13,
     "metadata": {},
     "output_type": "execute_result"
    }
   ],
   "source": [
    "train_size = train_labels_all.shape[0]\n",
    "train_size"
   ]
  },
  {
   "cell_type": "markdown",
   "metadata": {},
   "source": [
    "##  Build TensorFlow model"
   ]
  },
  {
   "cell_type": "code",
   "execution_count": 14,
   "metadata": {
    "collapsed": false
   },
   "outputs": [
    {
     "name": "stdout",
     "output_type": "stream",
     "text": [
      "Done\n"
     ]
    }
   ],
   "source": [
    "import tensorflow as tf\n",
    "\n",
    "BATCH_SIZE = 120 #Each batch is the number of data we feed into NN each time\n",
    "# We have only one channel in our grayscale images.\n",
    "NUM_CHANNELS = 1\n",
    "# The random seed that defines initialization.\n",
    "SEED = 42\n",
    "\n",
    "# This is where training samples and labels are fed to the graph.\n",
    "# These placeholder nodes will be fed a batch of training data at each\n",
    "# training step, which we'll write once we define the graph structure.\n",
    "train_data_node = tf.placeholder(tf.float32, shape=(BATCH_SIZE, IMAGE_SIZE, IMAGE_SIZE, NUM_CHANNELS))\n",
    "train_labels_node = tf.placeholder(tf.float32,shape=(BATCH_SIZE, NUM_LABELS))\n",
    "\n",
    "# For the validation and test data, we'll just hold the entire dataset in one constant node.\n",
    "validation_data_node = tf.constant(valid_data_all)\n",
    "test_data_node = tf.constant(test_data_all)\n",
    "\n",
    "print('Done')"
   ]
  },
  {
   "cell_type": "markdown",
   "metadata": {},
   "source": [
    "Initialize weights:"
   ]
  },
  {
   "cell_type": "code",
   "execution_count": 15,
   "metadata": {
    "collapsed": true
   },
   "outputs": [],
   "source": [
    "# The variables below hold all the trainable weights. For each, the\n",
    "# parameter defines how the variables will be initialized.\n",
    "conv1_weights = tf.Variable(tf.truncated_normal([5, 5, NUM_CHANNELS, 32],  # 5x5 filter, depth 32.\n",
    "                      stddev=0.1,\n",
    "                      seed=SEED))"
   ]
  },
  {
   "cell_type": "code",
   "execution_count": 16,
   "metadata": {
    "collapsed": true
   },
   "outputs": [],
   "source": [
    "conv1_biases = tf.Variable(tf.zeros([32]))"
   ]
  },
  {
   "cell_type": "code",
   "execution_count": 17,
   "metadata": {
    "collapsed": true
   },
   "outputs": [],
   "source": [
    "conv2_weights = tf.Variable(tf.truncated_normal([5, 5, 32, 64],stddev=0.1,seed=SEED))\n",
    "conv2_biases = tf.Variable(tf.constant(0.1, shape=[64]))"
   ]
  },
  {
   "cell_type": "code",
   "execution_count": 18,
   "metadata": {
    "collapsed": true
   },
   "outputs": [],
   "source": [
    "# fully connected, depth 512.\n",
    "fc1_weights = tf.Variable(tf.truncated_normal([int(IMAGE_SIZE / 4 * IMAGE_SIZE / 4 * 64), 512],stddev=0.1,seed=SEED))"
   ]
  },
  {
   "cell_type": "code",
   "execution_count": 19,
   "metadata": {
    "collapsed": true
   },
   "outputs": [],
   "source": [
    "fc1_biases = tf.Variable(tf.constant(0.1, shape=[512]))\n",
    "fc2_weights = tf.Variable(tf.truncated_normal([512, NUM_LABELS],stddev=0.1, seed=SEED))\n",
    "fc2_biases = tf.Variable(tf.constant(0.1, shape=[NUM_LABELS]))"
   ]
  },
  {
   "cell_type": "code",
   "execution_count": 20,
   "metadata": {
    "collapsed": false
   },
   "outputs": [
    {
     "name": "stdout",
     "output_type": "stream",
     "text": [
      "Done\n"
     ]
    }
   ],
   "source": [
    "def model(data, train=False):\n",
    "  # 2D convolution, with 'SAME' padding (i.e. the output feature map has\n",
    "  # the same size as the input). Note that {strides} is a 4D array whose\n",
    "  # shape matches the data layout: [image index, y, x, depth].\n",
    "  conv = tf.nn.conv2d(data,\n",
    "                      conv1_weights,\n",
    "                      strides=[1, 1, 1, 1],\n",
    "                      padding='SAME')\n",
    "\n",
    "  # Bias and rectified linear non-linearity.\n",
    "  relu = tf.nn.relu(tf.nn.bias_add(conv, conv1_biases))\n",
    "  \n",
    "  # Max pooling. The kernel size spec ksize also follows the layout of\n",
    "  # the data. Here we have a pooling window of 2, and a stride of 2.\n",
    "  pool = tf.nn.max_pool(relu,\n",
    "                        ksize=[1, 2, 2, 1],\n",
    "                        strides=[1, 2, 2, 1],\n",
    "                        padding='SAME')\n",
    "  conv = tf.nn.conv2d(pool,\n",
    "                      conv2_weights,\n",
    "                      strides=[1, 1, 1, 1],\n",
    "                      padding='SAME')\n",
    "  relu = tf.nn.relu(tf.nn.bias_add(conv, conv2_biases))\n",
    "  pool = tf.nn.max_pool(relu,\n",
    "                        ksize=[1, 2, 2, 1],\n",
    "                        strides=[1, 2, 2, 1],\n",
    "                        padding='SAME')\n",
    "  \n",
    "  # Reshape the feature map cuboid into a 2D matrix to feed it to the\n",
    "  # fully connected layers.\n",
    "  pool_shape = pool.get_shape().as_list()\n",
    "  reshape = tf.reshape(\n",
    "      pool,\n",
    "      [pool_shape[0], pool_shape[1] * pool_shape[2] * pool_shape[3]])\n",
    "  \n",
    "  # Fully connected layer. Note that the '+' operation automatically\n",
    "  # broadcasts the biases.\n",
    "  hidden = tf.nn.relu(tf.matmul(reshape, fc1_weights) + fc1_biases)\n",
    "  \n",
    "  # Add a 50% dropout during training only. Dropout also scales\n",
    "  # activations such that no rescaling is needed at evaluation time.\n",
    "  if train:\n",
    "    hidden = tf.nn.dropout(hidden, 0.5, seed=SEED)\n",
    "  return tf.matmul(hidden, fc2_weights) + fc2_biases\n",
    "\n",
    "print('Done')"
   ]
  },
  {
   "cell_type": "markdown",
   "metadata": {},
   "source": [
    "### Training computation"
   ]
  },
  {
   "cell_type": "code",
   "execution_count": 21,
   "metadata": {
    "collapsed": false
   },
   "outputs": [
    {
     "name": "stdout",
     "output_type": "stream",
     "text": [
      "Done\n"
     ]
    }
   ],
   "source": [
    "# Training computation: logits + cross-entropy loss.\n",
    "logits = model(train_data_node, True)\n",
    "loss = tf.reduce_mean(tf.nn.softmax_cross_entropy_with_logits(\n",
    "  logits, train_labels_node))\n",
    "\n",
    "# L2 regularization for the fully connected parameters.\n",
    "regularizers = (tf.nn.l2_loss(fc1_weights) + tf.nn.l2_loss(fc1_biases) +\n",
    "                tf.nn.l2_loss(fc2_weights) + tf.nn.l2_loss(fc2_biases))\n",
    "# Add the regularization term to the loss.\n",
    "loss += 5e-4 * regularizers\n",
    "\n",
    "# Optimizer: set up a variable that's incremented once per batch and\n",
    "# controls the learning rate decay.\n",
    "batch = tf.Variable(0)\n",
    "# Decay once per epoch, using an exponential schedule starting at 0.01.\n",
    "learning_rate = tf.train.exponential_decay(\n",
    "  0.01,                # Base learning rate.\n",
    "  batch * BATCH_SIZE,  # Current index into the dataset.\n",
    "  train_size,          # Decay step.\n",
    "  0.95,                # Decay rate.\n",
    "  staircase=True)\n",
    "# Use simple momentum for the optimization.\n",
    "optimizer = tf.train.MomentumOptimizer(learning_rate,\n",
    "                                       0.9).minimize(loss,\n",
    "                                                     global_step=batch)\n",
    "\n",
    "# Predictions for the minibatch, validation set and test set.\n",
    "train_prediction = tf.nn.softmax(logits)\n",
    "# We'll compute them only once in a while by calling their {eval()} method.\n",
    "validation_prediction = tf.nn.softmax(model(validation_data_node))\n",
    "test_prediction = tf.nn.softmax(model(test_data_node))\n",
    "\n",
    "print('Done')"
   ]
  },
  {
   "cell_type": "markdown",
   "metadata": {},
   "source": [
    "### Start Session"
   ]
  },
  {
   "cell_type": "code",
   "execution_count": 22,
   "metadata": {
    "collapsed": false
   },
   "outputs": [
    {
     "name": "stdout",
     "output_type": "stream",
     "text": [
      "Done\n"
     ]
    }
   ],
   "source": [
    "# Create a new interactive session that we'll use in\n",
    "# subsequent code cells.\n",
    "s = tf.InteractiveSession()\n",
    "\n",
    "# Use our newly created session as the default for \n",
    "# subsequent operations.\n",
    "s.as_default()\n",
    "\n",
    "# Initialize all the variables we defined above.\n",
    "tf.initialize_all_variables().run()\n",
    "\n",
    "print('Done')"
   ]
  },
  {
   "cell_type": "code",
   "execution_count": 23,
   "metadata": {
    "collapsed": false
   },
   "outputs": [
    {
     "name": "stdout",
     "output_type": "stream",
     "text": [
      "Done\n"
     ]
    }
   ],
   "source": [
    "# Grab the first BATCH_SIZE examples and labels.\n",
    "batch_data = train_data_all[:BATCH_SIZE, :, :, :]\n",
    "batch_labels = train_labels_all[:BATCH_SIZE]\n",
    "\n",
    "# This dictionary maps the batch data (as a numpy array) to the\n",
    "# node in the graph it should be fed to.\n",
    "feed_dict = {train_data_node: batch_data,\n",
    "             train_labels_node: batch_labels}\n",
    "\n",
    "# Run the graph and fetch some of the nodes.\n",
    "_, l, lr, predictions = s.run(\n",
    "  [optimizer, loss, learning_rate, train_prediction],\n",
    "  feed_dict=feed_dict)\n",
    "\n",
    "print('Done')"
   ]
  },
  {
   "cell_type": "markdown",
   "metadata": {},
   "source": [
    "### Error rate calculation"
   ]
  },
  {
   "cell_type": "code",
   "execution_count": 24,
   "metadata": {
    "collapsed": false
   },
   "outputs": [
    {
     "name": "stdout",
     "output_type": "stream",
     "text": [
      "Done\n"
     ]
    }
   ],
   "source": [
    "def error_rate(predictions, labels):\n",
    "  \"\"\"Return the error rate and confusions.\"\"\"\n",
    "  correct = numpy.sum(numpy.argmax(predictions, 1) == numpy.argmax(labels, 1))\n",
    "  total = predictions.shape[0]\n",
    "\n",
    "  error = 100.0 - (100 * float(correct) / float(total))\n",
    "\n",
    "  confusions = numpy.zeros([NUM_LABELS, NUM_LABELS], numpy.float32)\n",
    "  bundled = zip(numpy.argmax(predictions, 1), numpy.argmax(labels, 1))\n",
    "  for predicted, actual in bundled:\n",
    "    confusions[predicted, actual] += 1\n",
    "    \n",
    "  return error, confusions\n",
    "\n",
    "print('Done')"
   ]
  },
  {
   "cell_type": "markdown",
   "metadata": {},
   "source": [
    "### Train"
   ]
  },
  {
   "cell_type": "code",
   "execution_count": 25,
   "metadata": {
    "collapsed": false
   },
   "outputs": [
    {
     "data": {
      "text/plain": [
       "255000"
      ]
     },
     "execution_count": 25,
     "metadata": {},
     "output_type": "execute_result"
    }
   ],
   "source": [
    "train_size"
   ]
  },
  {
   "cell_type": "code",
   "execution_count": 26,
   "metadata": {
    "collapsed": false
   },
   "outputs": [
    {
     "name": "stdout",
     "output_type": "stream",
     "text": [
      "Step 0 of 2125\n",
      "Mini-batch loss: 8.08755 Error: 90.83333 Learning rate: 0.01000\n",
      "Validation error: 94.5\n",
      "Step 100 of 2125\n",
      "Mini-batch loss: 3.46176 Error: 9.16667 Learning rate: 0.01000\n",
      "Validation error: 72.2\n",
      "Step 200 of 2125\n",
      "Mini-batch loss: 3.26778 Error: 7.50000 Learning rate: 0.01000\n",
      "Validation error: 71.7\n",
      "Step 300 of 2125\n",
      "Mini-batch loss: 3.19688 Error: 4.16667 Learning rate: 0.01000\n",
      "Validation error: 71.4\n",
      "Step 400 of 2125\n",
      "Mini-batch loss: 3.11848 Error: 4.16667 Learning rate: 0.01000\n",
      "Validation error: 71.3\n"
     ]
    },
    {
     "ename": "KeyboardInterrupt",
     "evalue": "",
     "output_type": "error",
     "traceback": [
      "\u001b[0;31m---------------------------------------------------------------------------\u001b[0m",
      "\u001b[0;31mKeyboardInterrupt\u001b[0m                         Traceback (most recent call last)",
      "\u001b[0;32m<ipython-input-26-eccae0479d09>\u001b[0m in \u001b[0;36m<module>\u001b[0;34m()\u001b[0m\n\u001b[1;32m     13\u001b[0m   _, l, lr, predictions = s.run(\n\u001b[1;32m     14\u001b[0m     \u001b[0;34m[\u001b[0m\u001b[0moptimizer\u001b[0m\u001b[0;34m,\u001b[0m \u001b[0mloss\u001b[0m\u001b[0;34m,\u001b[0m \u001b[0mlearning_rate\u001b[0m\u001b[0;34m,\u001b[0m \u001b[0mtrain_prediction\u001b[0m\u001b[0;34m]\u001b[0m\u001b[0;34m,\u001b[0m\u001b[0;34m\u001b[0m\u001b[0m\n\u001b[0;32m---> 15\u001b[0;31m     feed_dict=feed_dict)\n\u001b[0m\u001b[1;32m     16\u001b[0m \u001b[0;34m\u001b[0m\u001b[0m\n\u001b[1;32m     17\u001b[0m   \u001b[0;31m# Print out the loss periodically.\u001b[0m\u001b[0;34m\u001b[0m\u001b[0;34m\u001b[0m\u001b[0m\n",
      "\u001b[0;32m/Users/kalininalex/Documents/Dev/virtualenv/py3/lib/python3.5/site-packages/tensorflow/python/client/session.py\u001b[0m in \u001b[0;36mrun\u001b[0;34m(self, fetches, feed_dict, options, run_metadata)\u001b[0m\n\u001b[1;32m    708\u001b[0m     \u001b[0;32mtry\u001b[0m\u001b[0;34m:\u001b[0m\u001b[0;34m\u001b[0m\u001b[0m\n\u001b[1;32m    709\u001b[0m       result = self._run(None, fetches, feed_dict, options_ptr,\n\u001b[0;32m--> 710\u001b[0;31m                          run_metadata_ptr)\n\u001b[0m\u001b[1;32m    711\u001b[0m       \u001b[0;32mif\u001b[0m \u001b[0mrun_metadata\u001b[0m\u001b[0;34m:\u001b[0m\u001b[0;34m\u001b[0m\u001b[0m\n\u001b[1;32m    712\u001b[0m         \u001b[0mproto_data\u001b[0m \u001b[0;34m=\u001b[0m \u001b[0mtf_session\u001b[0m\u001b[0;34m.\u001b[0m\u001b[0mTF_GetBuffer\u001b[0m\u001b[0;34m(\u001b[0m\u001b[0mrun_metadata_ptr\u001b[0m\u001b[0;34m)\u001b[0m\u001b[0;34m\u001b[0m\u001b[0m\n",
      "\u001b[0;32m/Users/kalininalex/Documents/Dev/virtualenv/py3/lib/python3.5/site-packages/tensorflow/python/client/session.py\u001b[0m in \u001b[0;36m_run\u001b[0;34m(self, handle, fetches, feed_dict, options, run_metadata)\u001b[0m\n\u001b[1;32m    906\u001b[0m     \u001b[0;32mif\u001b[0m \u001b[0mfinal_fetches\u001b[0m \u001b[0;32mor\u001b[0m \u001b[0mfinal_targets\u001b[0m\u001b[0;34m:\u001b[0m\u001b[0;34m\u001b[0m\u001b[0m\n\u001b[1;32m    907\u001b[0m       results = self._do_run(handle, final_targets, final_fetches,\n\u001b[0;32m--> 908\u001b[0;31m                              feed_dict_string, options, run_metadata)\n\u001b[0m\u001b[1;32m    909\u001b[0m     \u001b[0;32melse\u001b[0m\u001b[0;34m:\u001b[0m\u001b[0;34m\u001b[0m\u001b[0m\n\u001b[1;32m    910\u001b[0m       \u001b[0mresults\u001b[0m \u001b[0;34m=\u001b[0m \u001b[0;34m[\u001b[0m\u001b[0;34m]\u001b[0m\u001b[0;34m\u001b[0m\u001b[0m\n",
      "\u001b[0;32m/Users/kalininalex/Documents/Dev/virtualenv/py3/lib/python3.5/site-packages/tensorflow/python/client/session.py\u001b[0m in \u001b[0;36m_do_run\u001b[0;34m(self, handle, target_list, fetch_list, feed_dict, options, run_metadata)\u001b[0m\n\u001b[1;32m    956\u001b[0m     \u001b[0;32mif\u001b[0m \u001b[0mhandle\u001b[0m \u001b[0;32mis\u001b[0m \u001b[0;32mNone\u001b[0m\u001b[0;34m:\u001b[0m\u001b[0;34m\u001b[0m\u001b[0m\n\u001b[1;32m    957\u001b[0m       return self._do_call(_run_fn, self._session, feed_dict, fetch_list,\n\u001b[0;32m--> 958\u001b[0;31m                            target_list, options, run_metadata)\n\u001b[0m\u001b[1;32m    959\u001b[0m     \u001b[0;32melse\u001b[0m\u001b[0;34m:\u001b[0m\u001b[0;34m\u001b[0m\u001b[0m\n\u001b[1;32m    960\u001b[0m       return self._do_call(_prun_fn, self._session, handle, feed_dict,\n",
      "\u001b[0;32m/Users/kalininalex/Documents/Dev/virtualenv/py3/lib/python3.5/site-packages/tensorflow/python/client/session.py\u001b[0m in \u001b[0;36m_do_call\u001b[0;34m(self, fn, *args)\u001b[0m\n\u001b[1;32m    963\u001b[0m   \u001b[0;32mdef\u001b[0m \u001b[0m_do_call\u001b[0m\u001b[0;34m(\u001b[0m\u001b[0mself\u001b[0m\u001b[0;34m,\u001b[0m \u001b[0mfn\u001b[0m\u001b[0;34m,\u001b[0m \u001b[0;34m*\u001b[0m\u001b[0margs\u001b[0m\u001b[0;34m)\u001b[0m\u001b[0;34m:\u001b[0m\u001b[0;34m\u001b[0m\u001b[0m\n\u001b[1;32m    964\u001b[0m     \u001b[0;32mtry\u001b[0m\u001b[0;34m:\u001b[0m\u001b[0;34m\u001b[0m\u001b[0m\n\u001b[0;32m--> 965\u001b[0;31m       \u001b[0;32mreturn\u001b[0m \u001b[0mfn\u001b[0m\u001b[0;34m(\u001b[0m\u001b[0;34m*\u001b[0m\u001b[0margs\u001b[0m\u001b[0;34m)\u001b[0m\u001b[0;34m\u001b[0m\u001b[0m\n\u001b[0m\u001b[1;32m    966\u001b[0m     \u001b[0;32mexcept\u001b[0m \u001b[0merrors\u001b[0m\u001b[0;34m.\u001b[0m\u001b[0mOpError\u001b[0m \u001b[0;32mas\u001b[0m \u001b[0me\u001b[0m\u001b[0;34m:\u001b[0m\u001b[0;34m\u001b[0m\u001b[0m\n\u001b[1;32m    967\u001b[0m       \u001b[0mmessage\u001b[0m \u001b[0;34m=\u001b[0m \u001b[0mcompat\u001b[0m\u001b[0;34m.\u001b[0m\u001b[0mas_text\u001b[0m\u001b[0;34m(\u001b[0m\u001b[0me\u001b[0m\u001b[0;34m.\u001b[0m\u001b[0mmessage\u001b[0m\u001b[0;34m)\u001b[0m\u001b[0;34m\u001b[0m\u001b[0m\n",
      "\u001b[0;32m/Users/kalininalex/Documents/Dev/virtualenv/py3/lib/python3.5/site-packages/tensorflow/python/client/session.py\u001b[0m in \u001b[0;36m_run_fn\u001b[0;34m(session, feed_dict, fetch_list, target_list, options, run_metadata)\u001b[0m\n\u001b[1;32m    945\u001b[0m         return tf_session.TF_Run(session, options,\n\u001b[1;32m    946\u001b[0m                                  \u001b[0mfeed_dict\u001b[0m\u001b[0;34m,\u001b[0m \u001b[0mfetch_list\u001b[0m\u001b[0;34m,\u001b[0m \u001b[0mtarget_list\u001b[0m\u001b[0;34m,\u001b[0m\u001b[0;34m\u001b[0m\u001b[0m\n\u001b[0;32m--> 947\u001b[0;31m                                  status, run_metadata)\n\u001b[0m\u001b[1;32m    948\u001b[0m \u001b[0;34m\u001b[0m\u001b[0m\n\u001b[1;32m    949\u001b[0m     \u001b[0;32mdef\u001b[0m \u001b[0m_prun_fn\u001b[0m\u001b[0;34m(\u001b[0m\u001b[0msession\u001b[0m\u001b[0;34m,\u001b[0m \u001b[0mhandle\u001b[0m\u001b[0;34m,\u001b[0m \u001b[0mfeed_dict\u001b[0m\u001b[0;34m,\u001b[0m \u001b[0mfetch_list\u001b[0m\u001b[0;34m)\u001b[0m\u001b[0;34m:\u001b[0m\u001b[0;34m\u001b[0m\u001b[0m\n",
      "\u001b[0;31mKeyboardInterrupt\u001b[0m: "
     ]
    }
   ],
   "source": [
    "steps = int(train_size / BATCH_SIZE)\n",
    "for step in range(steps):\n",
    "  # Compute the offset of the current minibatch in the data.\n",
    "  # Note that we could use better randomization across epochs.\n",
    "  offset = (step * BATCH_SIZE) % (train_size - BATCH_SIZE)\n",
    "  batch_data = train_data_all[offset:(offset + BATCH_SIZE), :, :, :]\n",
    "  batch_labels = train_labels_all[offset:(offset + BATCH_SIZE)]\n",
    "  # This dictionary maps the batch data (as a numpy array) to the\n",
    "  # node in the graph it should be fed to.\n",
    "  feed_dict = {train_data_node: batch_data,\n",
    "               train_labels_node: batch_labels}\n",
    "  # Run the graph and fetch some of the nodes.\n",
    "  _, l, lr, predictions = s.run(\n",
    "    [optimizer, loss, learning_rate, train_prediction],\n",
    "    feed_dict=feed_dict)\n",
    "  \n",
    "  # Print out the loss periodically.\n",
    "  if step % 100 == 0:\n",
    "    error, _ = error_rate(predictions, batch_labels)\n",
    "    print('Step {:d} of {:d}'.format(step, steps))\n",
    "    print ('Mini-batch loss: {:.5f} Error: {:.5f} Learning rate: {:.5f}'.format(l, error, lr))\n",
    "    print ('Validation error: {:.1f}'.format(error_rate(validation_prediction.eval(), valid_labels_all)[0]))\n",
    "\n",
    "print('Done')"
   ]
  },
  {
   "cell_type": "code",
   "execution_count": 27,
   "metadata": {
    "collapsed": false
   },
   "outputs": [
    {
     "name": "stdout",
     "output_type": "stream",
     "text": [
      "6\n"
     ]
    },
    {
     "data": {
      "image/png": "[encoded data removed]",
      "text/plain": [
       "<matplotlib.figure.Figure at 0x11dc36908>"
      ]
     },
     "metadata": {},
     "output_type": "display_data"
    }
   ],
   "source": [
    "def draw_sample(img):\n",
    "    img = img.reshape(28, 28)\n",
    "    plt.imshow(img, cmap=plt.cm.Greys)\n",
    "\n",
    "labels = '0123456789abcdefghij'\n",
    "#arr = nm_valid_data\n",
    "data_arr = valid_data_mnist\n",
    "label_arr = valid_labels_mnist\n",
    "\n",
    "index = 3454\n",
    "draw_sample(data_arr[index])\n",
    "print(labels[np.argmax(label_arr[index])])"
   ]
  },
  {
   "cell_type": "code",
   "execution_count": 28,
   "metadata": {
    "collapsed": false
   },
   "outputs": [
    {
     "data": {
      "text/plain": [
       "array([[[ 0.5],\n",
       "        [ 0.5],\n",
       "        [ 0.5],\n",
       "        [ 0.5],\n",
       "        [ 0.5],\n",
       "        [ 0.5],\n",
       "        [ 0.5],\n",
       "        [ 0.5],\n",
       "        [ 0.5],\n",
       "        [ 0.5],\n",
       "        [ 0.5],\n",
       "        [ 0.5],\n",
       "        [ 0.5],\n",
       "        [ 0.5],\n",
       "        [ 0.5],\n",
       "        [ 0.5],\n",
       "        [ 0.5],\n",
       "        [ 0.5],\n",
       "        [ 0.5],\n",
       "        [ 0.5],\n",
       "        [ 0.5],\n",
       "        [ 0.5],\n",
       "        [ 0.5],\n",
       "        [ 0.5],\n",
       "        [ 0.5],\n",
       "        [ 0.5],\n",
       "        [ 0.5],\n",
       "        [ 0.5]],\n",
       "\n",
       "       [[ 0.5],\n",
       "        [ 0.5],\n",
       "        [ 0.5],\n",
       "        [ 0.5],\n",
       "        [ 0.5],\n",
       "        [ 0.5],\n",
       "        [ 0.5],\n",
       "        [ 0.5],\n",
       "        [ 0.5],\n",
       "        [ 0.5],\n",
       "        [ 0.5],\n",
       "        [ 0.5],\n",
       "        [ 0.5],\n",
       "        [ 0.5],\n",
       "        [ 0.5],\n",
       "        [ 0.5],\n",
       "        [ 0.5],\n",
       "        [ 0.5],\n",
       "        [ 0.5],\n",
       "        [ 0.5],\n",
       "        [ 0.5],\n",
       "        [ 0.5],\n",
       "        [ 0.5],\n",
       "        [ 0.5],\n",
       "        [ 0.5],\n",
       "        [ 0.5],\n",
       "        [ 0.5],\n",
       "        [ 0.5]],\n",
       "\n",
       "       [[ 0.5],\n",
       "        [ 0.5],\n",
       "        [ 0.5],\n",
       "        [ 0.5],\n",
       "        [ 0.5],\n",
       "        [ 0.5],\n",
       "        [ 0.5],\n",
       "        [ 0.5],\n",
       "        [ 0.5],\n",
       "        [ 0.5],\n",
       "        [ 0.5],\n",
       "        [ 0.5],\n",
       "        [ 0.5],\n",
       "        [ 0.5],\n",
       "        [ 0.5],\n",
       "        [ 0.5],\n",
       "        [ 0.5],\n",
       "        [ 0.5],\n",
       "        [ 0.5],\n",
       "        [ 0.5],\n",
       "        [ 0.5],\n",
       "        [ 0.5],\n",
       "        [ 0.5],\n",
       "        [ 0.5],\n",
       "        [ 0.5],\n",
       "        [ 0.5],\n",
       "        [ 0.5],\n",
       "        [ 0.5]],\n",
       "\n",
       "       [[ 0.5],\n",
       "        [ 0.5],\n",
       "        [ 0.5],\n",
       "        [ 0.5],\n",
       "        [ 0.5],\n",
       "        [ 0.5],\n",
       "        [ 0.5],\n",
       "        [ 0.5],\n",
       "        [ 0.5],\n",
       "        [ 0.5],\n",
       "        [ 0.5],\n",
       "        [ 0.5],\n",
       "        [ 0.5],\n",
       "        [ 0.5],\n",
       "        [ 0.5],\n",
       "        [ 0.5],\n",
       "        [ 0.5],\n",
       "        [ 0.5],\n",
       "        [ 0.5],\n",
       "        [ 0.5],\n",
       "        [ 0.5],\n",
       "        [ 0.5],\n",
       "        [ 0.5],\n",
       "        [ 0.5],\n",
       "        [ 0.5],\n",
       "        [ 0.5],\n",
       "        [ 0.5],\n",
       "        [ 0.5]],\n",
       "\n",
       "       [[ 0.5],\n",
       "        [ 0.5],\n",
       "        [ 0.5],\n",
       "        [ 0.5],\n",
       "        [ 0.5],\n",
       "        [ 0.5],\n",
       "        [ 0.5],\n",
       "        [ 0.5],\n",
       "        [ 0.5],\n",
       "        [ 0.5],\n",
       "        [ 0.5],\n",
       "        [ 0.5],\n",
       "        [ 0.5],\n",
       "        [ 0.5],\n",
       "        [ 0.5],\n",
       "        [ 0.5],\n",
       "        [ 0.5],\n",
       "        [ 0.5],\n",
       "        [ 0.5],\n",
       "        [ 0.5],\n",
       "        [ 0.5],\n",
       "        [ 0.5],\n",
       "        [ 0.5],\n",
       "        [ 0.5],\n",
       "        [ 0.5],\n",
       "        [ 0.5],\n",
       "        [ 0.5],\n",
       "        [ 0.5]],\n",
       "\n",
       "       [[ 0.5],\n",
       "        [ 0.5],\n",
       "        [ 0.5],\n",
       "        [ 0.5],\n",
       "        [ 0.5],\n",
       "        [ 0.5],\n",
       "        [ 0.5],\n",
       "        [ 0.5],\n",
       "        [ 0.5],\n",
       "        [ 0.5],\n",
       "        [ 0.5],\n",
       "        [ 0.5],\n",
       "        [ 0.5],\n",
       "        [ 0.5],\n",
       "        [ 0.5],\n",
       "        [ 0.5],\n",
       "        [ 0.5],\n",
       "        [ 0.5],\n",
       "        [ 0.5],\n",
       "        [ 0.5],\n",
       "        [ 0.5],\n",
       "        [ 0.5],\n",
       "        [ 0.5],\n",
       "        [ 0.5],\n",
       "        [ 0.5],\n",
       "        [ 0.5],\n",
       "        [ 0.5],\n",
       "        [ 0.5]],\n",
       "\n",
       "       [[ 0.5],\n",
       "        [ 0.5],\n",
       "        [ 0.5],\n",
       "        [ 0.5],\n",
       "        [ 0.5],\n",
       "        [ 0.5],\n",
       "        [ 0.5],\n",
       "        [ 0.5],\n",
       "        [ 0.5],\n",
       "        [ 0.5],\n",
       "        [ 0.5],\n",
       "        [ 0.5],\n",
       "        [ 0.5],\n",
       "        [ 0.5],\n",
       "        [ 0.5],\n",
       "        [ 0.5],\n",
       "        [ 0.5],\n",
       "        [ 0.5],\n",
       "        [ 0.5],\n",
       "        [ 0.5],\n",
       "        [ 0.5],\n",
       "        [ 0.5],\n",
       "        [ 0.5],\n",
       "        [ 0.5],\n",
       "        [ 0.5],\n",
       "        [ 0.5],\n",
       "        [ 0.5],\n",
       "        [ 0.5]],\n",
       "\n",
       "       [[ 0.5],\n",
       "        [ 0.5],\n",
       "        [ 0.5],\n",
       "        [ 0.5],\n",
       "        [ 0.5],\n",
       "        [ 0.5],\n",
       "        [ 0.5],\n",
       "        [ 0.5],\n",
       "        [ 0.5],\n",
       "        [ 0.5],\n",
       "        [ 0.5],\n",
       "        [ 0.5],\n",
       "        [ 0.5],\n",
       "        [ 0.5],\n",
       "        [ 0.5],\n",
       "        [ 0.5],\n",
       "        [ 0.5],\n",
       "        [ 0.5],\n",
       "        [ 0.5],\n",
       "        [ 0.5],\n",
       "        [ 0.5],\n",
       "        [ 0.5],\n",
       "        [ 0.5],\n",
       "        [ 0.5],\n",
       "        [ 0.5],\n",
       "        [ 0.5],\n",
       "        [ 0.5],\n",
       "        [ 0.5]],\n",
       "\n",
       "       [[ 0.5],\n",
       "        [ 0.5],\n",
       "        [ 0.5],\n",
       "        [ 0.5],\n",
       "        [ 0.5],\n",
       "        [ 0.5],\n",
       "        [ 0.5],\n",
       "        [ 0.5],\n",
       "        [ 0.5],\n",
       "        [ 0.5],\n",
       "        [ 0.5],\n",
       "        [ 0.5],\n",
       "        [ 0.5],\n",
       "        [ 0.5],\n",
       "        [ 0.5],\n",
       "        [ 0.5],\n",
       "        [ 0.5],\n",
       "        [ 0.5],\n",
       "        [ 0.5],\n",
       "        [ 0.5],\n",
       "        [ 0.5],\n",
       "        [ 0.5],\n",
       "        [ 0.5],\n",
       "        [ 0.5],\n",
       "        [ 0.5],\n",
       "        [ 0.5],\n",
       "        [ 0.5],\n",
       "        [ 0.5]],\n",
       "\n",
       "       [[ 0.5],\n",
       "        [ 0.5],\n",
       "        [ 0.5],\n",
       "        [ 0.5],\n",
       "        [ 0.5],\n",
       "        [ 0.5],\n",
       "        [ 0.5],\n",
       "        [ 0.5],\n",
       "        [ 0.5],\n",
       "        [ 0.5],\n",
       "        [ 0.5],\n",
       "        [ 0.5],\n",
       "        [ 0.5],\n",
       "        [ 0.5],\n",
       "        [ 0.5],\n",
       "        [ 0.5],\n",
       "        [ 0.5],\n",
       "        [ 0.5],\n",
       "        [ 0.5],\n",
       "        [ 0.5],\n",
       "        [ 0.5],\n",
       "        [ 0.5],\n",
       "        [ 0.5],\n",
       "        [ 0.5],\n",
       "        [ 0.5],\n",
       "        [ 0.5],\n",
       "        [ 0.5],\n",
       "        [ 0.5]],\n",
       "\n",
       "       [[ 0.5],\n",
       "        [ 0.5],\n",
       "        [ 0.5],\n",
       "        [ 0.5],\n",
       "        [ 0.5],\n",
       "        [ 0.5],\n",
       "        [ 0.5],\n",
       "        [ 0.5],\n",
       "        [ 0.5],\n",
       "        [ 0.5],\n",
       "        [ 0.5],\n",
       "        [ 0.5],\n",
       "        [ 0.5],\n",
       "        [ 0.5],\n",
       "        [ 0.5],\n",
       "        [ 0.5],\n",
       "        [ 0.5],\n",
       "        [ 0.5],\n",
       "        [ 0.5],\n",
       "        [ 0.5],\n",
       "        [ 0.5],\n",
       "        [ 0.5],\n",
       "        [ 0.5],\n",
       "        [ 0.5],\n",
       "        [ 0.5],\n",
       "        [ 0.5],\n",
       "        [ 0.5],\n",
       "        [ 0.5]],\n",
       "\n",
       "       [[ 0.5],\n",
       "        [ 0.5],\n",
       "        [ 0.5],\n",
       "        [ 0.5],\n",
       "        [ 0.5],\n",
       "        [ 0.5],\n",
       "        [ 0.5],\n",
       "        [ 0.5],\n",
       "        [ 0.5],\n",
       "        [ 0.5],\n",
       "        [ 0.5],\n",
       "        [ 0.5],\n",
       "        [ 0.5],\n",
       "        [ 0.5],\n",
       "        [ 0.5],\n",
       "        [ 0.5],\n",
       "        [ 0.5],\n",
       "        [ 0.5],\n",
       "        [ 0.5],\n",
       "        [ 0.5],\n",
       "        [ 0.5],\n",
       "        [ 0.5],\n",
       "        [ 0.5],\n",
       "        [ 0.5],\n",
       "        [ 0.5],\n",
       "        [ 0.5],\n",
       "        [ 0.5],\n",
       "        [ 0.5]],\n",
       "\n",
       "       [[ 0.5],\n",
       "        [ 0.5],\n",
       "        [ 0.5],\n",
       "        [ 0.5],\n",
       "        [ 0.5],\n",
       "        [ 0.5],\n",
       "        [ 0.5],\n",
       "        [ 0.5],\n",
       "        [ 0.5],\n",
       "        [ 0.5],\n",
       "        [ 0.5],\n",
       "        [ 0.5],\n",
       "        [ 0.5],\n",
       "        [ 0.5],\n",
       "        [ 0.5],\n",
       "        [ 0.5],\n",
       "        [ 0.5],\n",
       "        [ 0.5],\n",
       "        [ 0.5],\n",
       "        [ 0.5],\n",
       "        [ 0.5],\n",
       "        [ 0.5],\n",
       "        [ 0.5],\n",
       "        [ 0.5],\n",
       "        [ 0.5],\n",
       "        [ 0.5],\n",
       "        [ 0.5],\n",
       "        [ 0.5]],\n",
       "\n",
       "       [[ 0.5],\n",
       "        [ 0.5],\n",
       "        [ 0.5],\n",
       "        [ 0.5],\n",
       "        [ 0.5],\n",
       "        [ 0.5],\n",
       "        [ 0.5],\n",
       "        [ 0.5],\n",
       "        [ 0.5],\n",
       "        [ 0.5],\n",
       "        [ 0.5],\n",
       "        [ 0.5],\n",
       "        [ 0.5],\n",
       "        [ 0.5],\n",
       "        [ 0.5],\n",
       "        [ 0.5],\n",
       "        [ 0.5],\n",
       "        [ 0.5],\n",
       "        [ 0.5],\n",
       "        [ 0.5],\n",
       "        [ 0.5],\n",
       "        [ 0.5],\n",
       "        [ 0.5],\n",
       "        [ 0.5],\n",
       "        [ 0.5],\n",
       "        [ 0.5],\n",
       "        [ 0.5],\n",
       "        [ 0.5]],\n",
       "\n",
       "       [[ 0.5],\n",
       "        [ 0.5],\n",
       "        [ 0.5],\n",
       "        [ 0.5],\n",
       "        [ 0.5],\n",
       "        [ 0.5],\n",
       "        [ 0.5],\n",
       "        [ 0.5],\n",
       "        [ 0.5],\n",
       "        [ 0.5],\n",
       "        [ 0.5],\n",
       "        [ 0.5],\n",
       "        [ 0.5],\n",
       "        [ 0.5],\n",
       "        [ 0.5],\n",
       "        [ 0.5],\n",
       "        [ 0.5],\n",
       "        [ 0.5],\n",
       "        [ 0.5],\n",
       "        [ 0.5],\n",
       "        [ 0.5],\n",
       "        [ 0.5],\n",
       "        [ 0.5],\n",
       "        [ 0.5],\n",
       "        [ 0.5],\n",
       "        [ 0.5],\n",
       "        [ 0.5],\n",
       "        [ 0.5]],\n",
       "\n",
       "       [[ 0.5],\n",
       "        [ 0.5],\n",
       "        [ 0.5],\n",
       "        [ 0.5],\n",
       "        [ 0.5],\n",
       "        [ 0.5],\n",
       "        [ 0.5],\n",
       "        [ 0.5],\n",
       "        [ 0.5],\n",
       "        [ 0.5],\n",
       "        [ 0.5],\n",
       "        [ 0.5],\n",
       "        [ 0.5],\n",
       "        [ 0.5],\n",
       "        [ 0.5],\n",
       "        [ 0.5],\n",
       "        [ 0.5],\n",
       "        [ 0.5],\n",
       "        [ 0.5],\n",
       "        [ 0.5],\n",
       "        [ 0.5],\n",
       "        [ 0.5],\n",
       "        [ 0.5],\n",
       "        [ 0.5],\n",
       "        [ 0.5],\n",
       "        [ 0.5],\n",
       "        [ 0.5],\n",
       "        [ 0.5]],\n",
       "\n",
       "       [[ 0.5],\n",
       "        [ 0.5],\n",
       "        [ 0.5],\n",
       "        [ 0.5],\n",
       "        [ 0.5],\n",
       "        [ 0.5],\n",
       "        [ 0.5],\n",
       "        [ 0.5],\n",
       "        [ 0.5],\n",
       "        [ 0.5],\n",
       "        [ 0.5],\n",
       "        [ 0.5],\n",
       "        [ 0.5],\n",
       "        [ 0.5],\n",
       "        [ 0.5],\n",
       "        [ 0.5],\n",
       "        [ 0.5],\n",
       "        [ 0.5],\n",
       "        [ 0.5],\n",
       "        [ 0.5],\n",
       "        [ 0.5],\n",
       "        [ 0.5],\n",
       "        [ 0.5],\n",
       "        [ 0.5],\n",
       "        [ 0.5],\n",
       "        [ 0.5],\n",
       "        [ 0.5],\n",
       "        [ 0.5]],\n",
       "\n",
       "       [[ 0.5],\n",
       "        [ 0.5],\n",
       "        [ 0.5],\n",
       "        [ 0.5],\n",
       "        [ 0.5],\n",
       "        [ 0.5],\n",
       "        [ 0.5],\n",
       "        [ 0.5],\n",
       "        [ 0.5],\n",
       "        [ 0.5],\n",
       "        [ 0.5],\n",
       "        [ 0.5],\n",
       "        [ 0.5],\n",
       "        [ 0.5],\n",
       "        [ 0.5],\n",
       "        [ 0.5],\n",
       "        [ 0.5],\n",
       "        [ 0.5],\n",
       "        [ 0.5],\n",
       "        [ 0.5],\n",
       "        [ 0.5],\n",
       "        [ 0.5],\n",
       "        [ 0.5],\n",
       "        [ 0.5],\n",
       "        [ 0.5],\n",
       "        [ 0.5],\n",
       "        [ 0.5],\n",
       "        [ 0.5]],\n",
       "\n",
       "       [[ 0.5],\n",
       "        [ 0.5],\n",
       "        [ 0.5],\n",
       "        [ 0.5],\n",
       "        [ 0.5],\n",
       "        [ 0.5],\n",
       "        [ 0.5],\n",
       "        [ 0.5],\n",
       "        [ 0.5],\n",
       "        [ 0.5],\n",
       "        [ 0.5],\n",
       "        [ 0.5],\n",
       "        [ 0.5],\n",
       "        [ 0.5],\n",
       "        [ 0.5],\n",
       "        [ 0.5],\n",
       "        [ 0.5],\n",
       "        [ 0.5],\n",
       "        [ 0.5],\n",
       "        [ 0.5],\n",
       "        [ 0.5],\n",
       "        [ 0.5],\n",
       "        [ 0.5],\n",
       "        [ 0.5],\n",
       "        [ 0.5],\n",
       "        [ 0.5],\n",
       "        [ 0.5],\n",
       "        [ 0.5]],\n",
       "\n",
       "       [[ 0.5],\n",
       "        [ 0.5],\n",
       "        [ 0.5],\n",
       "        [ 0.5],\n",
       "        [ 0.5],\n",
       "        [ 0.5],\n",
       "        [ 0.5],\n",
       "        [ 0.5],\n",
       "        [ 0.5],\n",
       "        [ 0.5],\n",
       "        [ 0.5],\n",
       "        [ 0.5],\n",
       "        [ 0.5],\n",
       "        [ 0.5],\n",
       "        [ 0.5],\n",
       "        [ 0.5],\n",
       "        [ 0.5],\n",
       "        [ 0.5],\n",
       "        [ 0.5],\n",
       "        [ 0.5],\n",
       "        [ 0.5],\n",
       "        [ 0.5],\n",
       "        [ 0.5],\n",
       "        [ 0.5],\n",
       "        [ 0.5],\n",
       "        [ 0.5],\n",
       "        [ 0.5],\n",
       "        [ 0.5]],\n",
       "\n",
       "       [[ 0.5],\n",
       "        [ 0.5],\n",
       "        [ 0.5],\n",
       "        [ 0.5],\n",
       "        [ 0.5],\n",
       "        [ 0.5],\n",
       "        [ 0.5],\n",
       "        [ 0.5],\n",
       "        [ 0.5],\n",
       "        [ 0.5],\n",
       "        [ 0.5],\n",
       "        [ 0.5],\n",
       "        [ 0.5],\n",
       "        [ 0.5],\n",
       "        [ 0.5],\n",
       "        [ 0.5],\n",
       "        [ 0.5],\n",
       "        [ 0.5],\n",
       "        [ 0.5],\n",
       "        [ 0.5],\n",
       "        [ 0.5],\n",
       "        [ 0.5],\n",
       "        [ 0.5],\n",
       "        [ 0.5],\n",
       "        [ 0.5],\n",
       "        [ 0.5],\n",
       "        [ 0.5],\n",
       "        [ 0.5]],\n",
       "\n",
       "       [[ 0.5],\n",
       "        [ 0.5],\n",
       "        [ 0.5],\n",
       "        [ 0.5],\n",
       "        [ 0.5],\n",
       "        [ 0.5],\n",
       "        [ 0.5],\n",
       "        [ 0.5],\n",
       "        [ 0.5],\n",
       "        [ 0.5],\n",
       "        [ 0.5],\n",
       "        [ 0.5],\n",
       "        [ 0.5],\n",
       "        [ 0.5],\n",
       "        [ 0.5],\n",
       "        [ 0.5],\n",
       "        [ 0.5],\n",
       "        [ 0.5],\n",
       "        [ 0.5],\n",
       "        [ 0.5],\n",
       "        [ 0.5],\n",
       "        [ 0.5],\n",
       "        [ 0.5],\n",
       "        [ 0.5],\n",
       "        [ 0.5],\n",
       "        [ 0.5],\n",
       "        [ 0.5],\n",
       "        [ 0.5]],\n",
       "\n",
       "       [[ 0.5],\n",
       "        [ 0.5],\n",
       "        [ 0.5],\n",
       "        [ 0.5],\n",
       "        [ 0.5],\n",
       "        [ 0.5],\n",
       "        [ 0.5],\n",
       "        [ 0.5],\n",
       "        [ 0.5],\n",
       "        [ 0.5],\n",
       "        [ 0.5],\n",
       "        [ 0.5],\n",
       "        [ 0.5],\n",
       "        [ 0.5],\n",
       "        [ 0.5],\n",
       "        [ 0.5],\n",
       "        [ 0.5],\n",
       "        [ 0.5],\n",
       "        [ 0.5],\n",
       "        [ 0.5],\n",
       "        [ 0.5],\n",
       "        [ 0.5],\n",
       "        [ 0.5],\n",
       "        [ 0.5],\n",
       "        [ 0.5],\n",
       "        [ 0.5],\n",
       "        [ 0.5],\n",
       "        [ 0.5]],\n",
       "\n",
       "       [[ 0.5],\n",
       "        [ 0.5],\n",
       "        [ 0.5],\n",
       "        [ 0.5],\n",
       "        [ 0.5],\n",
       "        [ 0.5],\n",
       "        [ 0.5],\n",
       "        [ 0.5],\n",
       "        [ 0.5],\n",
       "        [ 0.5],\n",
       "        [ 0.5],\n",
       "        [ 0.5],\n",
       "        [ 0.5],\n",
       "        [ 0.5],\n",
       "        [ 0.5],\n",
       "        [ 0.5],\n",
       "        [ 0.5],\n",
       "        [ 0.5],\n",
       "        [ 0.5],\n",
       "        [ 0.5],\n",
       "        [ 0.5],\n",
       "        [ 0.5],\n",
       "        [ 0.5],\n",
       "        [ 0.5],\n",
       "        [ 0.5],\n",
       "        [ 0.5],\n",
       "        [ 0.5],\n",
       "        [ 0.5]],\n",
       "\n",
       "       [[ 0.5],\n",
       "        [ 0.5],\n",
       "        [ 0.5],\n",
       "        [ 0.5],\n",
       "        [ 0.5],\n",
       "        [ 0.5],\n",
       "        [ 0.5],\n",
       "        [ 0.5],\n",
       "        [ 0.5],\n",
       "        [ 0.5],\n",
       "        [ 0.5],\n",
       "        [ 0.5],\n",
       "        [ 0.5],\n",
       "        [ 0.5],\n",
       "        [ 0.5],\n",
       "        [ 0.5],\n",
       "        [ 0.5],\n",
       "        [ 0.5],\n",
       "        [ 0.5],\n",
       "        [ 0.5],\n",
       "        [ 0.5],\n",
       "        [ 0.5],\n",
       "        [ 0.5],\n",
       "        [ 0.5],\n",
       "        [ 0.5],\n",
       "        [ 0.5],\n",
       "        [ 0.5],\n",
       "        [ 0.5]],\n",
       "\n",
       "       [[ 0.5],\n",
       "        [ 0.5],\n",
       "        [ 0.5],\n",
       "        [ 0.5],\n",
       "        [ 0.5],\n",
       "        [ 0.5],\n",
       "        [ 0.5],\n",
       "        [ 0.5],\n",
       "        [ 0.5],\n",
       "        [ 0.5],\n",
       "        [ 0.5],\n",
       "        [ 0.5],\n",
       "        [ 0.5],\n",
       "        [ 0.5],\n",
       "        [ 0.5],\n",
       "        [ 0.5],\n",
       "        [ 0.5],\n",
       "        [ 0.5],\n",
       "        [ 0.5],\n",
       "        [ 0.5],\n",
       "        [ 0.5],\n",
       "        [ 0.5],\n",
       "        [ 0.5],\n",
       "        [ 0.5],\n",
       "        [ 0.5],\n",
       "        [ 0.5],\n",
       "        [ 0.5],\n",
       "        [ 0.5]],\n",
       "\n",
       "       [[ 0.5],\n",
       "        [ 0.5],\n",
       "        [ 0.5],\n",
       "        [ 0.5],\n",
       "        [ 0.5],\n",
       "        [ 0.5],\n",
       "        [ 0.5],\n",
       "        [ 0.5],\n",
       "        [ 0.5],\n",
       "        [ 0.5],\n",
       "        [ 0.5],\n",
       "        [ 0.5],\n",
       "        [ 0.5],\n",
       "        [ 0.5],\n",
       "        [ 0.5],\n",
       "        [ 0.5],\n",
       "        [ 0.5],\n",
       "        [ 0.5],\n",
       "        [ 0.5],\n",
       "        [ 0.5],\n",
       "        [ 0.5],\n",
       "        [ 0.5],\n",
       "        [ 0.5],\n",
       "        [ 0.5],\n",
       "        [ 0.5],\n",
       "        [ 0.5],\n",
       "        [ 0.5],\n",
       "        [ 0.5]],\n",
       "\n",
       "       [[ 0.5],\n",
       "        [ 0.5],\n",
       "        [ 0.5],\n",
       "        [ 0.5],\n",
       "        [ 0.5],\n",
       "        [ 0.5],\n",
       "        [ 0.5],\n",
       "        [ 0.5],\n",
       "        [ 0.5],\n",
       "        [ 0.5],\n",
       "        [ 0.5],\n",
       "        [ 0.5],\n",
       "        [ 0.5],\n",
       "        [ 0.5],\n",
       "        [ 0.5],\n",
       "        [ 0.5],\n",
       "        [ 0.5],\n",
       "        [ 0.5],\n",
       "        [ 0.5],\n",
       "        [ 0.5],\n",
       "        [ 0.5],\n",
       "        [ 0.5],\n",
       "        [ 0.5],\n",
       "        [ 0.5],\n",
       "        [ 0.5],\n",
       "        [ 0.5],\n",
       "        [ 0.5],\n",
       "        [ 0.5]]], dtype=float32)"
      ]
     },
     "execution_count": 28,
     "metadata": {},
     "output_type": "execute_result"
    }
   ],
   "source": [
    "train_data_all[214500]"
   ]
  },
  {
   "cell_type": "code",
   "execution_count": null,
   "metadata": {
    "collapsed": true
   },
   "outputs": [],
   "source": []
  }
 ],
 "metadata": {
  "kernelspec": {
   "display_name": "Python 3",
   "language": "python",
   "name": "python3"
  },
  "language_info": {
   "codemirror_mode": {
    "name": "ipython",
    "version": 3
   },
   "file_extension": ".py",
   "mimetype": "text/x-python",
   "name": "python",
   "nbconvert_exporter": "python",
   "pygments_lexer": "ipython3",
   "version": "3.5.1"
  }
 },
 "nbformat": 4,
 "nbformat_minor": 1
}
